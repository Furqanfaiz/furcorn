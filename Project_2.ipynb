{
  "nbformat": 4,
  "nbformat_minor": 0,
  "metadata": {
    "colab": {
      "name": "Project_2.ipynb",
      "provenance": []
    },
    "kernelspec": {
      "name": "python3",
      "display_name": "Python 3"
    },
    "language_info": {
      "name": "python"
    }
  },
  "cells": [
    {
      "cell_type": "code",
      "execution_count": 25,
      "metadata": {
        "id": "dabc7Nx5TKcl",
        "colab": {
          "base_uri": "https://localhost:8080/"
        },
        "outputId": "126952b1-22aa-4b66-f6bb-8e57efa403aa"
      },
      "outputs": [
        {
          "output_type": "stream",
          "name": "stdout",
          "text": [
            "Looking in indexes: https://pypi.org/simple, https://us-python.pkg.dev/colab-wheels/public/simple/\n",
            "Requirement already satisfied: cartopy in /usr/local/lib/python3.7/dist-packages (0.19.0.post1)\n",
            "Requirement already satisfied: pyshp>=2 in /usr/local/lib/python3.7/dist-packages (from cartopy) (2.3.1)\n",
            "Requirement already satisfied: numpy>=1.13.3 in /usr/local/lib/python3.7/dist-packages (from cartopy) (1.21.6)\n",
            "Requirement already satisfied: shapely>=1.5.6 in /usr/local/lib/python3.7/dist-packages (from cartopy) (1.8.2)\n"
          ]
        }
      ],
      "source": [
        "#Regression using data set\n",
        "!pip install cartopy\n",
        "import cartopy\n",
        "matplotlib.use('GTK3Agg')\n",
        "from tensorflow import keras\n",
        "from tensorflow.keras import layers\n",
        "import numpy as np\n",
        "import pandas as pd\n",
        "import matplotlib.pyplot as plt\n",
        "from sklearn import datasets, linear_model\n",
        "from tensorflow.keras.callbacks import EarlyStopping, TensorBoard\n",
        "import os, datetime"
      ]
    },
    {
      "cell_type": "code",
      "source": [
        "#Load CSV\n",
        "df = pd.read_csv(\"/content/drive/MyDrive/garments_worker_productivity.csv\")"
      ],
      "metadata": {
        "id": "7KpducleTMoH"
      },
      "execution_count": 26,
      "outputs": []
    },
    {
      "cell_type": "code",
      "source": [
        "Y = df['department']\n",
        "X = df['targeted_productivity']"
      ],
      "metadata": {
        "id": "VkBhGhnKTyDe"
      },
      "execution_count": 27,
      "outputs": []
    },
    {
      "cell_type": "code",
      "source": [
        "X=X.values.reshape(len(X),1)\n",
        "Y=Y.values.reshape(len(Y),1)"
      ],
      "metadata": {
        "id": "D6LCKk7QT94P"
      },
      "execution_count": 28,
      "outputs": []
    },
    {
      "cell_type": "code",
      "source": [
        "#Split the data into training/testing sets\n",
        "X_train = X[:-250]\n",
        "X_test = X[-250:]"
      ],
      "metadata": {
        "id": "RPH5_O1aU6NH"
      },
      "execution_count": 29,
      "outputs": []
    },
    {
      "cell_type": "code",
      "source": [
        "#Split the targets into training/testing sets\n",
        "Y_train = Y[:-250]\n",
        "Y_test = Y[-250:]"
      ],
      "metadata": {
        "id": "zJDTcAiRVAuk"
      },
      "execution_count": 30,
      "outputs": []
    },
    {
      "cell_type": "code",
      "source": [
        "#Plot outputs\n",
        "plt.title('Test Data')\n",
        "plt.xlabel('Targeted')\n",
        "plt.ylabel('Department')\n",
        "plt.xticks(())\n",
        "plt.yticks(())"
      ],
      "metadata": {
        "colab": {
          "base_uri": "https://localhost:8080/",
          "height": 295
        },
        "id": "0OAJArFeVEGA",
        "outputId": "a31c766e-9253-4122-c3f5-980d30f64839"
      },
      "execution_count": 31,
      "outputs": [
        {
          "output_type": "execute_result",
          "data": {
            "text/plain": [
              "([], <a list of 0 Text major ticklabel objects>)"
            ]
          },
          "metadata": {},
          "execution_count": 31
        },
        {
          "output_type": "display_data",
          "data": {
            "text/plain": [
              "<Figure size 432x288 with 1 Axes>"
            ],
            "image/png": "[encoded data removed]"
          },
          "metadata": {}
        }
      ]
    },
    {
      "cell_type": "code",
      "source": [
        "#Create linear regression object\n",
        "regr = linear_model.LinearRegression()"
      ],
      "metadata": {
        "id": "ZF3CJc3vVZpT"
      },
      "execution_count": 44,
      "outputs": []
    },
    {
      "cell_type": "code",
      "source": [
        "plt.show()"
      ],
      "metadata": {
        "id": "p3cZZgGhXBmr"
      },
      "execution_count": 54,
      "outputs": []
    },
    {
      "cell_type": "code",
      "source": [
        ""
      ],
      "metadata": {
        "id": "xPzfyzjnjvYV"
      },
      "execution_count": null,
      "outputs": []
    }
  ]
}